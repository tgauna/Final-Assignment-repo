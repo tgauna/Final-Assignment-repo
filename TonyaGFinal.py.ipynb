{
 "cells": [
  {
   "cell_type": "code",
   "execution_count": null,
   "metadata": {},
   "outputs": [],
   "source": [
    "#import needed modules for simulation\n",
    "import random\n",
    "import matplot.lib.pyplot as plt\n",
    "importnumpy as np"
   ]
  },
  {
   "cell_type": "code",
   "execution_count": 3,
   "metadata": {},
   "outputs": [],
   "source": [
    "#Will have to set up three individual classes for population, landscape, and individuals\n",
    "#define the individuals class for the warblingBabblers\n",
    "\"\"\"The class will hold phenotypes for the individual birds\"\"\"\n",
    "class warblingBabblers:\n",
    "#Define the individual with an identifying phenotype\n",
    "#Phenotype should be assigned and should not change throughout the simulation\n",
    "    def _int_(self, individual, phenotype):\n",
    "        self.individual=individual\n",
    "        self.phenotype=phenotype\n",
    "#Set a description for each phenotype when called\n",
    "    def _repr_(self):\n",
    "        txt=\"warbler {}, description={}\"\n",
    "        yield txt.format(self.individual, self.phenotype)\n",
    "\n",
    "    "
   ]
  },
  {
   "cell_type": "code",
   "execution_count": null,
   "metadata": {},
   "outputs": [],
   "source": []
  }
 ],
 "metadata": {
  "kernelspec": {
   "display_name": "Python 3",
   "language": "python",
   "name": "python3"
  },
  "language_info": {
   "codemirror_mode": {
    "name": "ipython",
    "version": 3
   },
   "file_extension": ".py",
   "mimetype": "text/x-python",
   "name": "python",
   "nbconvert_exporter": "python",
   "pygments_lexer": "ipython3",
   "version": "3.6.4"
  }
 },
 "nbformat": 4,
 "nbformat_minor": 2
}
