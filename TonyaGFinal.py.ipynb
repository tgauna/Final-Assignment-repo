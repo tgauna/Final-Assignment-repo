{
 "cells": [
  {
   "cell_type": "code",
   "execution_count": null,
   "metadata": {},
   "outputs": [],
   "source": [
    "#import needed modules for simulation\n",
    "import random\n",
    "import matplot.lib.pyplot as plt\n",
    "importnumpy as np"
   ]
  },
  {
   "cell_type": "code",
   "execution_count": 1,
   "metadata": {},
   "outputs": [],
   "source": [
    "#Will have to set up three individual classes for population, landscape, and individuals\n",
    "#define the individuals class for the warblingBabblers\n",
    "\"\"\"The class will hold phenotypes for the individual birds\"\"\"\n",
    "class warblingBabblers:\n",
    "#Define the individual with an identifying phenotype\n",
    "#Phenotype should be assigned and should not change throughout the simulation\n",
    "    def _int_(self, individual, phenotype):\n",
    "        self.individual=individual\n",
    "        self.phenotype=phenotype\n",
    "#Set a description for each phenotype when called\n",
    "    def _repr_(self):\n",
    "        txt=\"warblingBabblers {}, description={}\"\n",
    "        yield txt.format(self.individual, self.phenotype)\n",
    "\n",
    "    "
   ]
  },
  {
   "cell_type": "code",
   "execution_count": null,
   "metadata": {},
   "outputs": [],
   "source": [
    "#Define the class that will hold the populations\n",
    "\"\"\"The class will contain and define how many individuals there are\"\"\"\n",
    "#Classify the population, define which phenotype is present at the start, and determine the size of the population\n",
    "class population:\n",
    "    def _init_(self, populationID,phenotype1,popSize=10):\n",
    "        self.populationID=populationID\n",
    "        self.popSize=popSize\n",
    "        self.phenotype1=phenotype1\n",
    "#Create a list that will hold the individuals in the first population\n",
    "#Create a loop for the individuals to be in the population\n",
    "#Append the individual to the list firstPop and the phenotype of the individual\n",
    "#Creat a function that will give a description of all the individuals in the starting population when function is called\n",
    "        self.firstPop = []\n",
    "        for i in self.firstPop:\n",
    "            self.firstPop.append(warblingBabblers(i+1,phenotype1))\n",
    "    def _repr_(self):\n",
    "        txt=\"Population{}\"\n",
    "        print(txt.format(self.populationID))\n",
    "        for i in self.firstPop:\n",
    "            print(i)\n",
    "        yield \"The end\"\n",
    "\n",
    "#Define the migration patterns by moving the Warbling Babblers from a population one at a time\n",
    "#Create a list that will contain any individual that leaves the population until random movement by all individuals has occurred\n",
    "#Eliminates an infinite loop\n",
    "\"\"\"Establishing weights that will be used in the matrix\"\"\"\n",
    "def individual_movement(self, weights):\n",
    "        migration=[]\n",
    "#Setting up for the leaving warbling babbler-if individual leaves they will be added to the migration list\n",
    "#If a warbling babbler leaves remove from the beginning population\n",
    "        for i in self.firstPop:\n",
    "            movement = random.choices([\"Remain\",\"Migrate\"],weights)[0]\n",
    "        if movement == \"Migrate\":\n",
    "            migrate.append(i)\n",
    "        for i in migration:\n",
    "            self.firstPop.remove(i)\n",
    "        yield migration\n",
    "#Set up function to move a new individual from a population into the landscape\n",
    "#Account for individuals that leave population 1 and move them to 2\n",
    "#Account for individuals that leave population 2 and move them to 1\n",
    "def popChange(self, indMoves):\n",
    "        self.firstPop1.extend(indMoves)\n",
    "#Establish a funtion that will be used to keep track of the number of individuals by their phenotype in the population\n",
    "#Determine starting populations of the different phenotypes\n",
    "def popCount(self):\n",
    "    popCountBluehead = 0\n",
    "    popCountBrownhead = 0\n",
    "     for i in self.firstPop1:\n",
    "            if i.phenotype == \"Bluehead\":\n",
    "                numBluehead += 1\n",
    "            if i.phenotype == \"Brownhead\":\n",
    "                numBrownhead += 1\n",
    "    yield [popCountBluehead, popCountBrownhead]\n",
    "\n",
    "\n",
    "        "
   ]
  },
  {
   "cell_type": "code",
   "execution_count": null,
   "metadata": {},
   "outputs": [],
   "source": []
  }
 ],
 "metadata": {
  "kernelspec": {
   "display_name": "Python 3",
   "language": "python",
   "name": "python3"
  },
  "language_info": {
   "codemirror_mode": {
    "name": "ipython",
    "version": 3
   },
   "file_extension": ".py",
   "mimetype": "text/x-python",
   "name": "python",
   "nbconvert_exporter": "python",
   "pygments_lexer": "ipython3",
   "version": "3.6.4"
  }
 },
 "nbformat": 4,
 "nbformat_minor": 2
}
